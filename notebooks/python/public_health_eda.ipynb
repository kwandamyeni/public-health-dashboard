{
 "cells": [
  {
   "cell_type": "markdown",
   "id": "8816eaea",
   "metadata": {},
   "source": [
    "# Public Health Dashboard – South Africa\n",
    "This notebook performs basic exploratory data analysis (EDA) and visualization on cleaned health data from South Africa."
   ]
  },
  {
   "cell_type": "code",
   "execution_count": null,
   "id": "28cd3091",
   "metadata": {},
   "outputs": [],
   "source": [
    "import pandas as pd\n",
    "import matplotlib.pyplot as plt\n",
    "import seaborn as sns\n",
    "\n",
    "# Load the cleaned dataset\n",
    "df = pd.read_csv('../data/cleaned/public_health_sa.csv')\n",
    "df.head()"
   ]
  },
  {
   "cell_type": "markdown",
   "id": "24b85462",
   "metadata": {},
   "source": [
    "## Summary Statistics"
   ]
  },
  {
   "cell_type": "code",
   "execution_count": null,
   "id": "efb7f7ea",
   "metadata": {},
   "outputs": [],
   "source": [
    "df.describe(include='all')"
   ]
  },
  {
   "cell_type": "markdown",
   "id": "c0271cd0",
   "metadata": {},
   "source": [
    "## Top Provinces by HIV Prevalence"
   ]
  },
  {
   "cell_type": "code",
   "execution_count": null,
   "id": "13b83fa5",
   "metadata": {},
   "outputs": [],
   "source": [
    "df[['Province', 'HIV_Prevalence_%']].sort_values(by='HIV_Prevalence_%', ascending=False)"
   ]
  },
  {
   "cell_type": "markdown",
   "id": "bc3aa599",
   "metadata": {},
   "source": [
    "## Visualization: Clinics per 100k by Province"
   ]
  },
  {
   "cell_type": "code",
   "execution_count": null,
   "id": "2f379fd6",
   "metadata": {},
   "outputs": [],
   "source": [
    "plt.figure(figsize=(10,6))\n",
    "sns.barplot(x='Clinics_per_100k', y='Province', data=df.sort_values('Clinics_per_100k'))\n",
    "plt.title('Clinics per 100,000 People by Province')\n",
    "plt.xlabel('Clinics per 100k')\n",
    "plt.ylabel('Province')\n",
    "plt.tight_layout()\n",
    "plt.show()"
   ]
  },
  {
   "cell_type": "markdown",
   "id": "b98148d5",
   "metadata": {},
   "source": [
    "## Visualization: TB Incidence Distribution"
   ]
  },
  {
   "cell_type": "code",
   "execution_count": null,
   "id": "78ffe618",
   "metadata": {},
   "outputs": [],
   "source": [
    "plt.figure(figsize=(8,5))\n",
    "sns.boxplot(x=df['TB_Incidence_per_100k'])\n",
    "plt.title('Distribution of TB Incidence Rates')\n",
    "plt.xlabel('TB Incidence per 100,000')\n",
    "plt.tight_layout()\n",
    "plt.show()"
   ]
  }
 ],
 "metadata": {},
 "nbformat": 4,
 "nbformat_minor": 5
}